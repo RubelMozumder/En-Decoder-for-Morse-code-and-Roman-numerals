{
 "cells": [
  {
   "cell_type": "code",
   "execution_count": 81,
   "metadata": {},
   "outputs": [],
   "source": [
    "## To store the morse code for the corresponding alphabet\n",
    "MorseCodeDictionary = { 'A':'.-', 'B':'-...', 'C':'-.-.', 'D':'-..', 'E':'.', 'F':'..-.', 'G':'--.', 'H':'....', 'I':'..', 'J':'.---', 'K':'-.-', \n",
    "        'L':'.-..', 'M':'--', 'N':'-.','O':'---','P':'.--.','Q':'--.-','R':'.-.','S':'...', 'T':'-', 'U':'..-', 'V':'...-', 'W':'.--', \n",
    "        'X':'-..-', 'Y':'-.--', 'Z':'--..', '1':'.----', '2':'..---', '3':'...--', '4':'....-', '5':'.....', '6':'-....', \n",
    "        '7':'--...', '8':'---..', '9':'----.', '0':'-----', ',':'--..--', '.':'.-.-.-', '?':'..--..', '/':'-..-.', '-':'-....-', \n",
    "        '(':'-.--.', ')':'-.--.-','!':'-.-.--', '&':'.-...',':': '---...' ,';':'-.-.-.','=': '-...-',\n",
    "            '+':'.-.-.','_':'..--.-','\"':'.-..-.',\"$\":'...-..-','@':'.--.-.'} \n",
    "# To Store roman numbwer and corresponding integer\n",
    "RomamDict = {'I':'1','IV':'4','V': '5','IX':'9','X':'10','XL':'40','L':'50','XC':'90','C':'100','CD':'400','D':'500','CM':'900','M':'1000'}\n",
    "#Separation of Dict keys & values in RomanKeyList and RomanValueList respectively\n",
    "RomanKeyList = list(RomamDict.keys())\n",
    "RomanValueList = list(RomamDict.values())"
   ]
  },
  {
   "cell_type": "code",
   "execution_count": 82,
   "metadata": {},
   "outputs": [],
   "source": [
    "## Function to encode from english to morse   \n",
    "def EncodeingToMorseCode(string):\n",
    "    string = string.upper() # Change to Upper Case \n",
    "    Morse_Code  = '' #empty string without space\n",
    "    for char in string: #for each Character in string\n",
    "        if char in  MorseCodeDictionary: \n",
    "            # To Retrieve MorseCode for corresponding Character \n",
    "            Morse_Code += MorseCodeDictionary[char] + ' ' # 1-space indicates different characters\n",
    "        else: \n",
    "            # Spaceing for unknown character and 'space' between two words\n",
    "            Morse_Code += ' ' # and 2 indicates different words  \n",
    "    return Morse_Code \n",
    "\n",
    "## Function to decode from MorseCode to English  \n",
    "def DecodingToEnglish(string): \n",
    "    string = string.upper() # Change to Upper Case\n",
    "    string += ' ' # adding a space to the end of the morsecode\n",
    "    EngLan = '' \n",
    "    MorseText = '' # Morse for each english letters\n",
    "    for sign in string: \n",
    "        # checks for space \n",
    "        if (sign != ' '): \n",
    "            tracnumber = 0 # For tracking space\n",
    "            # Collecting Morse code of a single character\n",
    "            MorseText += sign \n",
    "        else: \n",
    "            # if tracnumber = 1 then one character \n",
    "            tracnumber += 1\n",
    "  \n",
    "            # if tracnumber = 1 then one word \n",
    "            if tracnumber == 2 : \n",
    "  \n",
    "                 # adding space to separate words \n",
    "                EngLan += ' '\n",
    "            else: \n",
    "                MorseTextList = list(MorseCodeDictionary.values()) #List of MorseDictionary values\n",
    "                MorseTextIndex = MorseTextList.index(MorseText) #find out the corresponding MorseText(for each letter) index from MorseDictionary\n",
    "                CharList = list(MorseCodeDictionary.keys())# #List of MorseDictionary keys\n",
    "                EngLan += CharList[MorseTextIndex] \n",
    "                MorseText = '' #converting MorseText into empty\n",
    "    return EngLan "
   ]
  },
  {
   "cell_type": "code",
   "execution_count": 84,
   "metadata": {},
   "outputs": [],
   "source": [
    "#convert from Roman to integer\n",
    "def RomToInt(string):\n",
    "    \n",
    "    RomNumList = list(string) # To create a list of char of the given Roman string\n",
    "    IntStrNumList = [RomamDict[x] for x in RomNumList] # To create a list of string of number  corresponding Roman number\n",
    "    IntNumList = list(map(int,IntStrNumList)) # To convert str to int\n",
    "    # Tracking last two numbers and to check whether they needs a subtraction or not and to retrive the final integer number\n",
    "    if(len(RomNumList)>1):\n",
    "        x = IntNumList[-1]\n",
    "        y = IntNumList[-2]\n",
    "        if(x>y):\n",
    "            Num = sum(IntNumList[:-2])+(x-y)\n",
    "            return Num\n",
    "        else:\n",
    "            Num = sum(IntNumList)\n",
    "            return Num            \n",
    "    else:\n",
    "        Num = sum(IntNumList)\n",
    "        return Num\n",
    "#convert from Integer to Roman  \n",
    "def IntToRom(string):\n",
    "    IntNum = int(string)#Converting String to Integer str.\n",
    "    RomanNumber = '' \n",
    "    #To Check whether the number is in range or not, and retriving Roman number one by one\n",
    "    if (IntNum<=4999):\n",
    "        i = len(RomanValueList)\n",
    "        while  IntNum > 0: \n",
    "            for _ in range(IntNum // int(RomanValueList[i-1])):\n",
    "                RomanNumber += RomanKeyList[i-1]# Retriving Roman number from RomanKeyList\n",
    "                IntNum -= int(RomanValueList[i-1])#Reducing integer number by factor of corresponding position\n",
    "            i -= 1\n",
    "    else:\n",
    "        print(\"The intended Number is greater than 3999 to convert your value please write smaller number : \")\n",
    "    return RomanNumber"
   ]
  },
  {
   "cell_type": "code",
   "execution_count": 88,
   "metadata": {},
   "outputs": [
    {
     "name": "stdout",
     "output_type": "stream",
     "text": [
      "Please write a Message/MorseCode/Number/RomanNumber to convert in Morse Code, integer number and vice-versa: \n",
      "0\n"
     ]
    }
   ],
   "source": [
    "## To retrieve user message and convert it to upper case.\n",
    "string = input(\"Please write a Message/MorseCode/Number/RomanNumber to convert in Morse Code, integer number and vice-versa: \")\n",
    "\n",
    "# Detect Plain Text/ Morse Code/ integer Number/ Roman Number \n",
    "PlnTxtElmList = list([' ','A','B','C','D','E','F','G','H','I','J','K','L','M','N','O','P','R','Q','S','T','U','V','W','X','Y','Z',',','.','?','!','/','(',')','&',':',';','=','+','-','_','\"','$','@'])                       \n",
    "MosCodElmList = list(['.','-',' '])\n",
    "IntNumList = list(['1','2','3','4','5','6','7','8','9','0'])\n",
    "RomaNumList = list(['I','V','X','L','C','D','M'])\n",
    "InputStringList = [x.upper() for x in list(string)]\n",
    "if(all(element in RomaNumList for element in InputStringList)):#Check whether all element of string in RomanNumber List\n",
    "    IntegerNumber = RomToInt(string)\n",
    "    print(IntegerNumber)\n",
    "elif(all(element in IntNumList for element in InputStringList)):#Check whether all element of string in Integer Number List\n",
    "    RomanNumber = IntToRom(string)\n",
    "    print(RomanNumber)\n",
    "elif(all(element in MosCodElmList for element in InputStringList)):#Check whether all element of string in Morse Code list\n",
    "    MorseLanguage = DecodingToEnglish(string)\n",
    "    print(MorseLanguage)\n",
    "elif(all(element in PlnTxtElmList for element in InputStringList)):##Check whether all element of string in English language list\n",
    "    EnglishLangue = EncodeingToMorseCode(string)\n",
    "    print(EnglishLangue)\n",
    "else: # for the given string contained any key out of dictionary\n",
    "    print('Sorry unable to convert')"
   ]
  },
  {
   "cell_type": "code",
   "execution_count": null,
   "metadata": {},
   "outputs": [],
   "source": []
  }
 ],
 "metadata": {
  "kernelspec": {
   "display_name": "Python 3",
   "language": "python",
   "name": "python3"
  },
  "language_info": {
   "codemirror_mode": {
    "name": "ipython",
    "version": 3
   },
   "file_extension": ".py",
   "mimetype": "text/x-python",
   "name": "python",
   "nbconvert_exporter": "python",
   "pygments_lexer": "ipython3",
   "version": "3.6.5"
  }
 },
 "nbformat": 4,
 "nbformat_minor": 2
}
